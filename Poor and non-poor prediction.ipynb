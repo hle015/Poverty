{
 "cells": [
  {
   "cell_type": "code",
   "execution_count": 27,
   "id": "aef0db5f",
   "metadata": {},
   "outputs": [],
   "source": [
    "import pandas as pd\n",
    "import matplotlib.pyplot as plt\n",
    "import seaborn as sns\n"
   ]
  },
  {
   "cell_type": "code",
   "execution_count": 65,
   "id": "d6762768",
   "metadata": {},
   "outputs": [],
   "source": [
    "dtafile='C:/Users/huyen/My Drive/UCR_Drive/VARHS/Poverty/outcome_data_August.dta'\n",
    "income_path='C:/Users/huyen/My Drive/UCR_Drive/VARHS/Poverty/income_household.dta'\n",
    "df_poor=pd.read_stata(dtafile)\n",
    "df_income=pd.read_stata(income_path)\n",
    "\n",
    "df = df_poor.merge(df_income)"
   ]
  },
  {
   "cell_type": "code",
   "execution_count": 66,
   "id": "d3ddcedc",
   "metadata": {},
   "outputs": [
    {
     "data": {
      "text/html": [
       "<div>\n",
       "<style scoped>\n",
       "    .dataframe tbody tr th:only-of-type {\n",
       "        vertical-align: middle;\n",
       "    }\n",
       "\n",
       "    .dataframe tbody tr th {\n",
       "        vertical-align: top;\n",
       "    }\n",
       "\n",
       "    .dataframe thead th {\n",
       "        text-align: right;\n",
       "    }\n",
       "</style>\n",
       "<table border=\"1\" class=\"dataframe\">\n",
       "  <thead>\n",
       "    <tr style=\"text-align: right;\">\n",
       "      <th></th>\n",
       "      <th>idcom</th>\n",
       "      <th>idhh</th>\n",
       "      <th>age</th>\n",
       "      <th>political</th>\n",
       "      <th>landsize</th>\n",
       "      <th>room</th>\n",
       "      <th>wall1</th>\n",
       "      <th>floor1</th>\n",
       "      <th>roof1</th>\n",
       "      <th>dwelling1</th>\n",
       "      <th>...</th>\n",
       "      <th>hh_agri</th>\n",
       "      <th>hh_nonagri</th>\n",
       "      <th>ind_agri_pe</th>\n",
       "      <th>ind_non_pe</th>\n",
       "      <th>edu1</th>\n",
       "      <th>gender1</th>\n",
       "      <th>marital1</th>\n",
       "      <th>poor1</th>\n",
       "      <th>year1</th>\n",
       "      <th>total</th>\n",
       "    </tr>\n",
       "  </thead>\n",
       "  <tbody>\n",
       "    <tr>\n",
       "      <th>24625</th>\n",
       "      <td>801_9_19</td>\n",
       "      <td>801_9_19_3</td>\n",
       "      <td>57.0</td>\n",
       "      <td>1.0</td>\n",
       "      <td>2.65</td>\n",
       "      <td>60.0</td>\n",
       "      <td>1.0</td>\n",
       "      <td>3.0</td>\n",
       "      <td>5.0</td>\n",
       "      <td>1.0</td>\n",
       "      <td>...</td>\n",
       "      <td>NaN</td>\n",
       "      <td>NaN</td>\n",
       "      <td>NaN</td>\n",
       "      <td>NaN</td>\n",
       "      <td>4.0</td>\n",
       "      <td>1.0</td>\n",
       "      <td>2.0</td>\n",
       "      <td>2.0</td>\n",
       "      <td>10.0</td>\n",
       "      <td>146754.0</td>\n",
       "    </tr>\n",
       "    <tr>\n",
       "      <th>24626</th>\n",
       "      <td>801_9_19</td>\n",
       "      <td>801_9_19_3</td>\n",
       "      <td>59.0</td>\n",
       "      <td>0.0</td>\n",
       "      <td>0.85</td>\n",
       "      <td>110.0</td>\n",
       "      <td>2.0</td>\n",
       "      <td>4.0</td>\n",
       "      <td>5.0</td>\n",
       "      <td>1.0</td>\n",
       "      <td>...</td>\n",
       "      <td>NaN</td>\n",
       "      <td>NaN</td>\n",
       "      <td>NaN</td>\n",
       "      <td>NaN</td>\n",
       "      <td>1.0</td>\n",
       "      <td>1.0</td>\n",
       "      <td>2.0</td>\n",
       "      <td>2.0</td>\n",
       "      <td>12.0</td>\n",
       "      <td>70435.0</td>\n",
       "    </tr>\n",
       "    <tr>\n",
       "      <th>24627</th>\n",
       "      <td>801_9_19</td>\n",
       "      <td>801_9_19_3</td>\n",
       "      <td>61.0</td>\n",
       "      <td>1.0</td>\n",
       "      <td>0.85</td>\n",
       "      <td>120.0</td>\n",
       "      <td>2.0</td>\n",
       "      <td>4.0</td>\n",
       "      <td>5.0</td>\n",
       "      <td>1.0</td>\n",
       "      <td>...</td>\n",
       "      <td>NaN</td>\n",
       "      <td>NaN</td>\n",
       "      <td>NaN</td>\n",
       "      <td>NaN</td>\n",
       "      <td>1.0</td>\n",
       "      <td>1.0</td>\n",
       "      <td>2.0</td>\n",
       "      <td>2.0</td>\n",
       "      <td>14.0</td>\n",
       "      <td>91900.0</td>\n",
       "    </tr>\n",
       "    <tr>\n",
       "      <th>24628</th>\n",
       "      <td>801_9_19</td>\n",
       "      <td>801_9_19_3</td>\n",
       "      <td>63.0</td>\n",
       "      <td>0.0</td>\n",
       "      <td>2.35</td>\n",
       "      <td>70.0</td>\n",
       "      <td>2.0</td>\n",
       "      <td>4.0</td>\n",
       "      <td>5.0</td>\n",
       "      <td>1.0</td>\n",
       "      <td>...</td>\n",
       "      <td>1.0</td>\n",
       "      <td>0.0</td>\n",
       "      <td>100.0</td>\n",
       "      <td>0.0</td>\n",
       "      <td>1.0</td>\n",
       "      <td>1.0</td>\n",
       "      <td>2.0</td>\n",
       "      <td>2.0</td>\n",
       "      <td>16.0</td>\n",
       "      <td>139822.0</td>\n",
       "    </tr>\n",
       "    <tr>\n",
       "      <th>24629</th>\n",
       "      <td>801_9_19</td>\n",
       "      <td>801_9_19_3</td>\n",
       "      <td>65.0</td>\n",
       "      <td>0.0</td>\n",
       "      <td>2.35</td>\n",
       "      <td>210.0</td>\n",
       "      <td>2.0</td>\n",
       "      <td>3.0</td>\n",
       "      <td>5.0</td>\n",
       "      <td>1.0</td>\n",
       "      <td>...</td>\n",
       "      <td>NaN</td>\n",
       "      <td>NaN</td>\n",
       "      <td>NaN</td>\n",
       "      <td>NaN</td>\n",
       "      <td>1.0</td>\n",
       "      <td>1.0</td>\n",
       "      <td>2.0</td>\n",
       "      <td>2.0</td>\n",
       "      <td>18.0</td>\n",
       "      <td>152900.0</td>\n",
       "    </tr>\n",
       "  </tbody>\n",
       "</table>\n",
       "<p>5 rows × 22 columns</p>\n",
       "</div>"
      ],
      "text/plain": [
       "          idcom        idhh   age  political  landsize   room  wall1  floor1  \\\n",
       "24625  801_9_19  801_9_19_3  57.0        1.0      2.65   60.0    1.0     3.0   \n",
       "24626  801_9_19  801_9_19_3  59.0        0.0      0.85  110.0    2.0     4.0   \n",
       "24627  801_9_19  801_9_19_3  61.0        1.0      0.85  120.0    2.0     4.0   \n",
       "24628  801_9_19  801_9_19_3  63.0        0.0      2.35   70.0    2.0     4.0   \n",
       "24629  801_9_19  801_9_19_3  65.0        0.0      2.35  210.0    2.0     3.0   \n",
       "\n",
       "       roof1  dwelling1  ...  hh_agri  hh_nonagri  ind_agri_pe  ind_non_pe  \\\n",
       "24625    5.0        1.0  ...      NaN         NaN          NaN         NaN   \n",
       "24626    5.0        1.0  ...      NaN         NaN          NaN         NaN   \n",
       "24627    5.0        1.0  ...      NaN         NaN          NaN         NaN   \n",
       "24628    5.0        1.0  ...      1.0         0.0        100.0         0.0   \n",
       "24629    5.0        1.0  ...      NaN         NaN          NaN         NaN   \n",
       "\n",
       "       edu1  gender1  marital1  poor1  year1     total  \n",
       "24625   4.0      1.0       2.0    2.0   10.0  146754.0  \n",
       "24626   1.0      1.0       2.0    2.0   12.0   70435.0  \n",
       "24627   1.0      1.0       2.0    2.0   14.0   91900.0  \n",
       "24628   1.0      1.0       2.0    2.0   16.0  139822.0  \n",
       "24629   1.0      1.0       2.0    2.0   18.0  152900.0  \n",
       "\n",
       "[5 rows x 22 columns]"
      ]
     },
     "execution_count": 66,
     "metadata": {},
     "output_type": "execute_result"
    }
   ],
   "source": [
    "df.tail()\n"
   ]
  },
  {
   "cell_type": "code",
   "execution_count": 67,
   "id": "a5425d24",
   "metadata": {},
   "outputs": [
    {
     "data": {
      "text/plain": [
       "Index(['idcom', 'idhh', 'age', 'political', 'landsize', 'room', 'wall1',\n",
       "       'floor1', 'roof1', 'dwelling1', 'ind_agri', 'ind_nonagri', 'hh_agri',\n",
       "       'hh_nonagri', 'ind_agri_pe', 'ind_non_pe', 'edu1', 'gender1',\n",
       "       'marital1', 'poor1', 'year1', 'total'],\n",
       "      dtype='object')"
      ]
     },
     "execution_count": 67,
     "metadata": {},
     "output_type": "execute_result"
    }
   ],
   "source": [
    "df.columns"
   ]
  },
  {
   "cell_type": "code",
   "execution_count": 68,
   "id": "83241620",
   "metadata": {},
   "outputs": [
    {
     "data": {
      "text/html": [
       "<style type=\"text/css\">\n",
       "#T_ac676_row0_col0, #T_ac676_row1_col0, #T_ac676_row2_col0, #T_ac676_row3_col0, #T_ac676_row4_col0, #T_ac676_row5_col0 {\n",
       "  background-color: #00441b;\n",
       "  color: #f1f1f1;\n",
       "}\n",
       "#T_ac676_row6_col0 {\n",
       "  background-color: #84cc83;\n",
       "  color: #000000;\n",
       "}\n",
       "#T_ac676_row7_col0 {\n",
       "  background-color: #a8dca2;\n",
       "  color: #000000;\n",
       "}\n",
       "#T_ac676_row8_col0, #T_ac676_row9_col0, #T_ac676_row10_col0, #T_ac676_row11_col0, #T_ac676_row12_col0, #T_ac676_row13_col0, #T_ac676_row14_col0 {\n",
       "  background-color: #aedea7;\n",
       "  color: #000000;\n",
       "}\n",
       "#T_ac676_row15_col0 {\n",
       "  background-color: #c1e6ba;\n",
       "  color: #000000;\n",
       "}\n",
       "#T_ac676_row16_col0, #T_ac676_row17_col0, #T_ac676_row18_col0 {\n",
       "  background-color: #c2e7bb;\n",
       "  color: #000000;\n",
       "}\n",
       "#T_ac676_row19_col0, #T_ac676_row20_col0, #T_ac676_row21_col0 {\n",
       "  background-color: #f7fcf5;\n",
       "  color: #000000;\n",
       "}\n",
       "</style>\n",
       "<table id=\"T_ac676\">\n",
       "  <thead>\n",
       "    <tr>\n",
       "      <th class=\"blank level0\" >&nbsp;</th>\n",
       "      <th id=\"T_ac676_level0_col0\" class=\"col_heading level0 col0\" >0</th>\n",
       "    </tr>\n",
       "  </thead>\n",
       "  <tbody>\n",
       "    <tr>\n",
       "      <th id=\"T_ac676_level0_row0\" class=\"row_heading level0 row0\" >ind_nonagri</th>\n",
       "      <td id=\"T_ac676_row0_col0\" class=\"data row0 col0\" >56.860000</td>\n",
       "    </tr>\n",
       "    <tr>\n",
       "      <th id=\"T_ac676_level0_row1\" class=\"row_heading level0 row1\" >hh_nonagri</th>\n",
       "      <td id=\"T_ac676_row1_col0\" class=\"data row1 col0\" >56.860000</td>\n",
       "    </tr>\n",
       "    <tr>\n",
       "      <th id=\"T_ac676_level0_row2\" class=\"row_heading level0 row2\" >ind_non_pe</th>\n",
       "      <td id=\"T_ac676_row2_col0\" class=\"data row2 col0\" >56.860000</td>\n",
       "    </tr>\n",
       "    <tr>\n",
       "      <th id=\"T_ac676_level0_row3\" class=\"row_heading level0 row3\" >ind_agri</th>\n",
       "      <td id=\"T_ac676_row3_col0\" class=\"data row3 col0\" >56.860000</td>\n",
       "    </tr>\n",
       "    <tr>\n",
       "      <th id=\"T_ac676_level0_row4\" class=\"row_heading level0 row4\" >ind_agri_pe</th>\n",
       "      <td id=\"T_ac676_row4_col0\" class=\"data row4 col0\" >56.860000</td>\n",
       "    </tr>\n",
       "    <tr>\n",
       "      <th id=\"T_ac676_level0_row5\" class=\"row_heading level0 row5\" >hh_agri</th>\n",
       "      <td id=\"T_ac676_row5_col0\" class=\"data row5 col0\" >56.860000</td>\n",
       "    </tr>\n",
       "    <tr>\n",
       "      <th id=\"T_ac676_level0_row6\" class=\"row_heading level0 row6\" >landsize</th>\n",
       "      <td id=\"T_ac676_row6_col0\" class=\"data row6 col0\" >25.850000</td>\n",
       "    </tr>\n",
       "    <tr>\n",
       "      <th id=\"T_ac676_level0_row7\" class=\"row_heading level0 row7\" >poor1</th>\n",
       "      <td id=\"T_ac676_row7_col0\" class=\"data row7 col0\" >20.090000</td>\n",
       "    </tr>\n",
       "    <tr>\n",
       "      <th id=\"T_ac676_level0_row8\" class=\"row_heading level0 row8\" >dwelling1</th>\n",
       "      <td id=\"T_ac676_row8_col0\" class=\"data row8 col0\" >19.050000</td>\n",
       "    </tr>\n",
       "    <tr>\n",
       "      <th id=\"T_ac676_level0_row9\" class=\"row_heading level0 row9\" >room</th>\n",
       "      <td id=\"T_ac676_row9_col0\" class=\"data row9 col0\" >19.020000</td>\n",
       "    </tr>\n",
       "    <tr>\n",
       "      <th id=\"T_ac676_level0_row10\" class=\"row_heading level0 row10\" >roof1</th>\n",
       "      <td id=\"T_ac676_row10_col0\" class=\"data row10 col0\" >18.960000</td>\n",
       "    </tr>\n",
       "    <tr>\n",
       "      <th id=\"T_ac676_level0_row11\" class=\"row_heading level0 row11\" >floor1</th>\n",
       "      <td id=\"T_ac676_row11_col0\" class=\"data row11 col0\" >18.960000</td>\n",
       "    </tr>\n",
       "    <tr>\n",
       "      <th id=\"T_ac676_level0_row12\" class=\"row_heading level0 row12\" >wall1</th>\n",
       "      <td id=\"T_ac676_row12_col0\" class=\"data row12 col0\" >18.950000</td>\n",
       "    </tr>\n",
       "    <tr>\n",
       "      <th id=\"T_ac676_level0_row13\" class=\"row_heading level0 row13\" >total</th>\n",
       "      <td id=\"T_ac676_row13_col0\" class=\"data row13 col0\" >18.940000</td>\n",
       "    </tr>\n",
       "    <tr>\n",
       "      <th id=\"T_ac676_level0_row14\" class=\"row_heading level0 row14\" >political</th>\n",
       "      <td id=\"T_ac676_row14_col0\" class=\"data row14 col0\" >18.940000</td>\n",
       "    </tr>\n",
       "    <tr>\n",
       "      <th id=\"T_ac676_level0_row15\" class=\"row_heading level0 row15\" >edu1</th>\n",
       "      <td id=\"T_ac676_row15_col0\" class=\"data row15 col0\" >15.350000</td>\n",
       "    </tr>\n",
       "    <tr>\n",
       "      <th id=\"T_ac676_level0_row16\" class=\"row_heading level0 row16\" >marital1</th>\n",
       "      <td id=\"T_ac676_row16_col0\" class=\"data row16 col0\" >15.280000</td>\n",
       "    </tr>\n",
       "    <tr>\n",
       "      <th id=\"T_ac676_level0_row17\" class=\"row_heading level0 row17\" >gender1</th>\n",
       "      <td id=\"T_ac676_row17_col0\" class=\"data row17 col0\" >15.260000</td>\n",
       "    </tr>\n",
       "    <tr>\n",
       "      <th id=\"T_ac676_level0_row18\" class=\"row_heading level0 row18\" >age</th>\n",
       "      <td id=\"T_ac676_row18_col0\" class=\"data row18 col0\" >15.260000</td>\n",
       "    </tr>\n",
       "    <tr>\n",
       "      <th id=\"T_ac676_level0_row19\" class=\"row_heading level0 row19\" >idhh</th>\n",
       "      <td id=\"T_ac676_row19_col0\" class=\"data row19 col0\" >0.000000</td>\n",
       "    </tr>\n",
       "    <tr>\n",
       "      <th id=\"T_ac676_level0_row20\" class=\"row_heading level0 row20\" >year1</th>\n",
       "      <td id=\"T_ac676_row20_col0\" class=\"data row20 col0\" >0.000000</td>\n",
       "    </tr>\n",
       "    <tr>\n",
       "      <th id=\"T_ac676_level0_row21\" class=\"row_heading level0 row21\" >idcom</th>\n",
       "      <td id=\"T_ac676_row21_col0\" class=\"data row21 col0\" >0.000000</td>\n",
       "    </tr>\n",
       "  </tbody>\n",
       "</table>\n"
      ],
      "text/plain": [
       "<pandas.io.formats.style.Styler at 0x2c73be76fd0>"
      ]
     },
     "execution_count": 68,
     "metadata": {},
     "output_type": "execute_result"
    }
   ],
   "source": [
    "missing_value_perc = round(df.isnull().mean().mul(100).sort_values(ascending = False), 2) # missing values\n",
    "missing_value_perc.to_frame().style.background_gradient(cmap='Greens')"
   ]
  },
  {
   "cell_type": "code",
   "execution_count": 69,
   "id": "35bdb042",
   "metadata": {},
   "outputs": [
    {
     "data": {
      "text/html": [
       "<div>\n",
       "<style scoped>\n",
       "    .dataframe tbody tr th:only-of-type {\n",
       "        vertical-align: middle;\n",
       "    }\n",
       "\n",
       "    .dataframe tbody tr th {\n",
       "        vertical-align: top;\n",
       "    }\n",
       "\n",
       "    .dataframe thead th {\n",
       "        text-align: right;\n",
       "    }\n",
       "</style>\n",
       "<table border=\"1\" class=\"dataframe\">\n",
       "  <thead>\n",
       "    <tr style=\"text-align: right;\">\n",
       "      <th></th>\n",
       "      <th>idcom</th>\n",
       "      <th>idhh</th>\n",
       "      <th>age</th>\n",
       "      <th>political</th>\n",
       "      <th>landsize</th>\n",
       "      <th>room</th>\n",
       "      <th>wall1</th>\n",
       "      <th>floor1</th>\n",
       "      <th>roof1</th>\n",
       "      <th>dwelling1</th>\n",
       "      <th>...</th>\n",
       "      <th>hh_agri</th>\n",
       "      <th>hh_nonagri</th>\n",
       "      <th>ind_agri_pe</th>\n",
       "      <th>ind_non_pe</th>\n",
       "      <th>edu1</th>\n",
       "      <th>gender1</th>\n",
       "      <th>marital1</th>\n",
       "      <th>poor1</th>\n",
       "      <th>year1</th>\n",
       "      <th>total</th>\n",
       "    </tr>\n",
       "  </thead>\n",
       "  <tbody>\n",
       "    <tr>\n",
       "      <th>24</th>\n",
       "      <td>105_11_23</td>\n",
       "      <td>105_11_23_2</td>\n",
       "      <td>NaN</td>\n",
       "      <td>NaN</td>\n",
       "      <td>NaN</td>\n",
       "      <td>NaN</td>\n",
       "      <td>NaN</td>\n",
       "      <td>NaN</td>\n",
       "      <td>NaN</td>\n",
       "      <td>NaN</td>\n",
       "      <td>...</td>\n",
       "      <td>NaN</td>\n",
       "      <td>NaN</td>\n",
       "      <td>NaN</td>\n",
       "      <td>NaN</td>\n",
       "      <td>NaN</td>\n",
       "      <td>NaN</td>\n",
       "      <td>NaN</td>\n",
       "      <td>NaN</td>\n",
       "      <td>8.0</td>\n",
       "      <td>NaN</td>\n",
       "    </tr>\n",
       "    <tr>\n",
       "      <th>25</th>\n",
       "      <td>105_11_23</td>\n",
       "      <td>105_11_23_2</td>\n",
       "      <td>NaN</td>\n",
       "      <td>NaN</td>\n",
       "      <td>NaN</td>\n",
       "      <td>NaN</td>\n",
       "      <td>NaN</td>\n",
       "      <td>NaN</td>\n",
       "      <td>NaN</td>\n",
       "      <td>NaN</td>\n",
       "      <td>...</td>\n",
       "      <td>NaN</td>\n",
       "      <td>NaN</td>\n",
       "      <td>NaN</td>\n",
       "      <td>NaN</td>\n",
       "      <td>NaN</td>\n",
       "      <td>NaN</td>\n",
       "      <td>NaN</td>\n",
       "      <td>NaN</td>\n",
       "      <td>10.0</td>\n",
       "      <td>NaN</td>\n",
       "    </tr>\n",
       "    <tr>\n",
       "      <th>27</th>\n",
       "      <td>105_11_23</td>\n",
       "      <td>105_11_23_2</td>\n",
       "      <td>NaN</td>\n",
       "      <td>NaN</td>\n",
       "      <td>NaN</td>\n",
       "      <td>NaN</td>\n",
       "      <td>NaN</td>\n",
       "      <td>NaN</td>\n",
       "      <td>NaN</td>\n",
       "      <td>NaN</td>\n",
       "      <td>...</td>\n",
       "      <td>NaN</td>\n",
       "      <td>NaN</td>\n",
       "      <td>NaN</td>\n",
       "      <td>NaN</td>\n",
       "      <td>NaN</td>\n",
       "      <td>NaN</td>\n",
       "      <td>NaN</td>\n",
       "      <td>NaN</td>\n",
       "      <td>14.0</td>\n",
       "      <td>NaN</td>\n",
       "    </tr>\n",
       "    <tr>\n",
       "      <th>35</th>\n",
       "      <td>105_11_23</td>\n",
       "      <td>105_11_23_3</td>\n",
       "      <td>46.0</td>\n",
       "      <td>0.0</td>\n",
       "      <td>0.036</td>\n",
       "      <td>50.0</td>\n",
       "      <td>5.0</td>\n",
       "      <td>6.0</td>\n",
       "      <td>7.0</td>\n",
       "      <td>1.0</td>\n",
       "      <td>...</td>\n",
       "      <td>NaN</td>\n",
       "      <td>NaN</td>\n",
       "      <td>NaN</td>\n",
       "      <td>NaN</td>\n",
       "      <td>1.0</td>\n",
       "      <td>1.0</td>\n",
       "      <td>2.0</td>\n",
       "      <td>NaN</td>\n",
       "      <td>18.0</td>\n",
       "      <td>140310.0</td>\n",
       "    </tr>\n",
       "    <tr>\n",
       "      <th>38</th>\n",
       "      <td>105_11_23</td>\n",
       "      <td>105_11_23_5</td>\n",
       "      <td>NaN</td>\n",
       "      <td>NaN</td>\n",
       "      <td>NaN</td>\n",
       "      <td>NaN</td>\n",
       "      <td>NaN</td>\n",
       "      <td>NaN</td>\n",
       "      <td>NaN</td>\n",
       "      <td>NaN</td>\n",
       "      <td>...</td>\n",
       "      <td>NaN</td>\n",
       "      <td>NaN</td>\n",
       "      <td>NaN</td>\n",
       "      <td>NaN</td>\n",
       "      <td>NaN</td>\n",
       "      <td>NaN</td>\n",
       "      <td>NaN</td>\n",
       "      <td>NaN</td>\n",
       "      <td>12.0</td>\n",
       "      <td>NaN</td>\n",
       "    </tr>\n",
       "    <tr>\n",
       "      <th>...</th>\n",
       "      <td>...</td>\n",
       "      <td>...</td>\n",
       "      <td>...</td>\n",
       "      <td>...</td>\n",
       "      <td>...</td>\n",
       "      <td>...</td>\n",
       "      <td>...</td>\n",
       "      <td>...</td>\n",
       "      <td>...</td>\n",
       "      <td>...</td>\n",
       "      <td>...</td>\n",
       "      <td>...</td>\n",
       "      <td>...</td>\n",
       "      <td>...</td>\n",
       "      <td>...</td>\n",
       "      <td>...</td>\n",
       "      <td>...</td>\n",
       "      <td>...</td>\n",
       "      <td>...</td>\n",
       "      <td>...</td>\n",
       "      <td>...</td>\n",
       "    </tr>\n",
       "    <tr>\n",
       "      <th>24608</th>\n",
       "      <td>801_9_12</td>\n",
       "      <td>801_9_12_2</td>\n",
       "      <td>57.0</td>\n",
       "      <td>NaN</td>\n",
       "      <td>NaN</td>\n",
       "      <td>NaN</td>\n",
       "      <td>NaN</td>\n",
       "      <td>NaN</td>\n",
       "      <td>NaN</td>\n",
       "      <td>NaN</td>\n",
       "      <td>...</td>\n",
       "      <td>0.0</td>\n",
       "      <td>1.0</td>\n",
       "      <td>0.0</td>\n",
       "      <td>100.0</td>\n",
       "      <td>1.0</td>\n",
       "      <td>2.0</td>\n",
       "      <td>3.0</td>\n",
       "      <td>NaN</td>\n",
       "      <td>12.0</td>\n",
       "      <td>NaN</td>\n",
       "    </tr>\n",
       "    <tr>\n",
       "      <th>24610</th>\n",
       "      <td>801_9_12</td>\n",
       "      <td>801_9_12_2</td>\n",
       "      <td>NaN</td>\n",
       "      <td>NaN</td>\n",
       "      <td>NaN</td>\n",
       "      <td>NaN</td>\n",
       "      <td>NaN</td>\n",
       "      <td>NaN</td>\n",
       "      <td>NaN</td>\n",
       "      <td>NaN</td>\n",
       "      <td>...</td>\n",
       "      <td>NaN</td>\n",
       "      <td>NaN</td>\n",
       "      <td>NaN</td>\n",
       "      <td>NaN</td>\n",
       "      <td>NaN</td>\n",
       "      <td>NaN</td>\n",
       "      <td>NaN</td>\n",
       "      <td>NaN</td>\n",
       "      <td>16.0</td>\n",
       "      <td>NaN</td>\n",
       "    </tr>\n",
       "    <tr>\n",
       "      <th>24611</th>\n",
       "      <td>801_9_12</td>\n",
       "      <td>801_9_12_2</td>\n",
       "      <td>NaN</td>\n",
       "      <td>NaN</td>\n",
       "      <td>NaN</td>\n",
       "      <td>NaN</td>\n",
       "      <td>NaN</td>\n",
       "      <td>NaN</td>\n",
       "      <td>NaN</td>\n",
       "      <td>NaN</td>\n",
       "      <td>...</td>\n",
       "      <td>NaN</td>\n",
       "      <td>NaN</td>\n",
       "      <td>NaN</td>\n",
       "      <td>NaN</td>\n",
       "      <td>NaN</td>\n",
       "      <td>NaN</td>\n",
       "      <td>NaN</td>\n",
       "      <td>NaN</td>\n",
       "      <td>18.0</td>\n",
       "      <td>NaN</td>\n",
       "    </tr>\n",
       "    <tr>\n",
       "      <th>24621</th>\n",
       "      <td>801_9_19</td>\n",
       "      <td>801_9_19_2</td>\n",
       "      <td>NaN</td>\n",
       "      <td>NaN</td>\n",
       "      <td>NaN</td>\n",
       "      <td>NaN</td>\n",
       "      <td>NaN</td>\n",
       "      <td>NaN</td>\n",
       "      <td>NaN</td>\n",
       "      <td>NaN</td>\n",
       "      <td>...</td>\n",
       "      <td>NaN</td>\n",
       "      <td>NaN</td>\n",
       "      <td>NaN</td>\n",
       "      <td>NaN</td>\n",
       "      <td>NaN</td>\n",
       "      <td>NaN</td>\n",
       "      <td>NaN</td>\n",
       "      <td>NaN</td>\n",
       "      <td>14.0</td>\n",
       "      <td>NaN</td>\n",
       "    </tr>\n",
       "    <tr>\n",
       "      <th>24623</th>\n",
       "      <td>801_9_19</td>\n",
       "      <td>801_9_19_2</td>\n",
       "      <td>NaN</td>\n",
       "      <td>NaN</td>\n",
       "      <td>NaN</td>\n",
       "      <td>NaN</td>\n",
       "      <td>NaN</td>\n",
       "      <td>NaN</td>\n",
       "      <td>NaN</td>\n",
       "      <td>NaN</td>\n",
       "      <td>...</td>\n",
       "      <td>NaN</td>\n",
       "      <td>NaN</td>\n",
       "      <td>NaN</td>\n",
       "      <td>NaN</td>\n",
       "      <td>NaN</td>\n",
       "      <td>NaN</td>\n",
       "      <td>NaN</td>\n",
       "      <td>NaN</td>\n",
       "      <td>18.0</td>\n",
       "      <td>NaN</td>\n",
       "    </tr>\n",
       "  </tbody>\n",
       "</table>\n",
       "<p>4947 rows × 22 columns</p>\n",
       "</div>"
      ],
      "text/plain": [
       "           idcom         idhh   age  political  landsize  room  wall1  floor1  \\\n",
       "24     105_11_23  105_11_23_2   NaN        NaN       NaN   NaN    NaN     NaN   \n",
       "25     105_11_23  105_11_23_2   NaN        NaN       NaN   NaN    NaN     NaN   \n",
       "27     105_11_23  105_11_23_2   NaN        NaN       NaN   NaN    NaN     NaN   \n",
       "35     105_11_23  105_11_23_3  46.0        0.0     0.036  50.0    5.0     6.0   \n",
       "38     105_11_23  105_11_23_5   NaN        NaN       NaN   NaN    NaN     NaN   \n",
       "...          ...          ...   ...        ...       ...   ...    ...     ...   \n",
       "24608   801_9_12   801_9_12_2  57.0        NaN       NaN   NaN    NaN     NaN   \n",
       "24610   801_9_12   801_9_12_2   NaN        NaN       NaN   NaN    NaN     NaN   \n",
       "24611   801_9_12   801_9_12_2   NaN        NaN       NaN   NaN    NaN     NaN   \n",
       "24621   801_9_19   801_9_19_2   NaN        NaN       NaN   NaN    NaN     NaN   \n",
       "24623   801_9_19   801_9_19_2   NaN        NaN       NaN   NaN    NaN     NaN   \n",
       "\n",
       "       roof1  dwelling1  ...  hh_agri  hh_nonagri  ind_agri_pe  ind_non_pe  \\\n",
       "24       NaN        NaN  ...      NaN         NaN          NaN         NaN   \n",
       "25       NaN        NaN  ...      NaN         NaN          NaN         NaN   \n",
       "27       NaN        NaN  ...      NaN         NaN          NaN         NaN   \n",
       "35       7.0        1.0  ...      NaN         NaN          NaN         NaN   \n",
       "38       NaN        NaN  ...      NaN         NaN          NaN         NaN   \n",
       "...      ...        ...  ...      ...         ...          ...         ...   \n",
       "24608    NaN        NaN  ...      0.0         1.0          0.0       100.0   \n",
       "24610    NaN        NaN  ...      NaN         NaN          NaN         NaN   \n",
       "24611    NaN        NaN  ...      NaN         NaN          NaN         NaN   \n",
       "24621    NaN        NaN  ...      NaN         NaN          NaN         NaN   \n",
       "24623    NaN        NaN  ...      NaN         NaN          NaN         NaN   \n",
       "\n",
       "       edu1  gender1  marital1  poor1  year1     total  \n",
       "24      NaN      NaN       NaN    NaN    8.0       NaN  \n",
       "25      NaN      NaN       NaN    NaN   10.0       NaN  \n",
       "27      NaN      NaN       NaN    NaN   14.0       NaN  \n",
       "35      1.0      1.0       2.0    NaN   18.0  140310.0  \n",
       "38      NaN      NaN       NaN    NaN   12.0       NaN  \n",
       "...     ...      ...       ...    ...    ...       ...  \n",
       "24608   1.0      2.0       3.0    NaN   12.0       NaN  \n",
       "24610   NaN      NaN       NaN    NaN   16.0       NaN  \n",
       "24611   NaN      NaN       NaN    NaN   18.0       NaN  \n",
       "24621   NaN      NaN       NaN    NaN   14.0       NaN  \n",
       "24623   NaN      NaN       NaN    NaN   18.0       NaN  \n",
       "\n",
       "[4947 rows x 22 columns]"
      ]
     },
     "execution_count": 69,
     "metadata": {},
     "output_type": "execute_result"
    }
   ],
   "source": [
    "df[df.poor1.isnull()]\n"
   ]
  },
  {
   "cell_type": "code",
   "execution_count": 70,
   "id": "397af7ec",
   "metadata": {},
   "outputs": [],
   "source": [
    "df.drop(['ind_agri', 'ind_nonagri', 'hh_agri', 'hh_nonagri', 'ind_agri_pe', 'ind_non_pe'], axis=1, inplace=True) "
   ]
  },
  {
   "cell_type": "code",
   "execution_count": 71,
   "id": "774f2239",
   "metadata": {},
   "outputs": [],
   "source": [
    "df.drop_duplicates(subset=['idhh', 'year1'], keep='last', inplace=True)"
   ]
  },
  {
   "cell_type": "code",
   "execution_count": 72,
   "id": "052a0012",
   "metadata": {},
   "outputs": [
    {
     "data": {
      "text/plain": [
       "24630"
      ]
     },
     "execution_count": 72,
     "metadata": {},
     "output_type": "execute_result"
    }
   ],
   "source": [
    "df.shape[0]"
   ]
  },
  {
   "cell_type": "code",
   "execution_count": 73,
   "id": "46d7eacf",
   "metadata": {},
   "outputs": [],
   "source": [
    "df2=df.dropna()"
   ]
  },
  {
   "cell_type": "code",
   "execution_count": 74,
   "id": "7f7618f0",
   "metadata": {},
   "outputs": [
    {
     "data": {
      "text/plain": [
       "16871"
      ]
     },
     "execution_count": 74,
     "metadata": {},
     "output_type": "execute_result"
    }
   ],
   "source": [
    "df2.shape[0]\n"
   ]
  },
  {
   "cell_type": "code",
   "execution_count": 75,
   "id": "46af557b",
   "metadata": {},
   "outputs": [
    {
     "data": {
      "text/plain": [
       "array([ 8., 10., 12., 14., 16., 18.], dtype=float32)"
      ]
     },
     "execution_count": 75,
     "metadata": {},
     "output_type": "execute_result"
    }
   ],
   "source": [
    "df2.year1.unique()"
   ]
  },
  {
   "cell_type": "code",
   "execution_count": 76,
   "id": "e3418b5b",
   "metadata": {},
   "outputs": [
    {
     "name": "stderr",
     "output_type": "stream",
     "text": [
      "C:\\Users\\huyen\\AppData\\Local\\Temp\\ipykernel_15728\\4045053416.py:1: SettingWithCopyWarning: \n",
      "A value is trying to be set on a copy of a slice from a DataFrame\n",
      "\n",
      "See the caveats in the documentation: https://pandas.pydata.org/pandas-docs/stable/user_guide/indexing.html#returning-a-view-versus-a-copy\n",
      "  df2[\"poor1\"].replace({2.0: 0}, inplace=True)\n"
     ]
    }
   ],
   "source": [
    "df2[\"poor1\"].replace({2.0: 0}, inplace=True)\n",
    "# df2 = df2[df2['total']>0]"
   ]
  },
  {
   "cell_type": "code",
   "execution_count": 77,
   "id": "cae18138",
   "metadata": {},
   "outputs": [],
   "source": [
    "count_hh = pd.DataFrame(df2.idhh.value_counts().reset_index())\n",
    "count_hh_ls = list(count_hh[count_hh['idhh'] == 5]['index'])"
   ]
  },
  {
   "cell_type": "code",
   "execution_count": 78,
   "id": "31ef094b",
   "metadata": {},
   "outputs": [],
   "source": [
    "df_all=df2"
   ]
  },
  {
   "cell_type": "code",
   "execution_count": 79,
   "id": "8273e942",
   "metadata": {},
   "outputs": [
    {
     "data": {
      "text/html": [
       "<div>\n",
       "<style scoped>\n",
       "    .dataframe tbody tr th:only-of-type {\n",
       "        vertical-align: middle;\n",
       "    }\n",
       "\n",
       "    .dataframe tbody tr th {\n",
       "        vertical-align: top;\n",
       "    }\n",
       "\n",
       "    .dataframe thead th {\n",
       "        text-align: right;\n",
       "    }\n",
       "</style>\n",
       "<table border=\"1\" class=\"dataframe\">\n",
       "  <thead>\n",
       "    <tr style=\"text-align: right;\">\n",
       "      <th></th>\n",
       "      <th>idcom</th>\n",
       "      <th>idhh</th>\n",
       "      <th>age</th>\n",
       "      <th>political</th>\n",
       "      <th>landsize</th>\n",
       "      <th>room</th>\n",
       "      <th>wall1</th>\n",
       "      <th>floor1</th>\n",
       "      <th>roof1</th>\n",
       "      <th>dwelling1</th>\n",
       "      <th>edu1</th>\n",
       "      <th>gender1</th>\n",
       "      <th>marital1</th>\n",
       "      <th>poor1</th>\n",
       "      <th>year1</th>\n",
       "      <th>total</th>\n",
       "    </tr>\n",
       "  </thead>\n",
       "  <tbody>\n",
       "    <tr>\n",
       "      <th>0</th>\n",
       "      <td>105_11_15</td>\n",
       "      <td>105_11_15_1</td>\n",
       "      <td>45.0</td>\n",
       "      <td>0.0</td>\n",
       "      <td>0.1776</td>\n",
       "      <td>35.0</td>\n",
       "      <td>5.0</td>\n",
       "      <td>4.0</td>\n",
       "      <td>6.0</td>\n",
       "      <td>1.0</td>\n",
       "      <td>1.0</td>\n",
       "      <td>1.0</td>\n",
       "      <td>2.0</td>\n",
       "      <td>0.0</td>\n",
       "      <td>8.0</td>\n",
       "      <td>27337.0</td>\n",
       "    </tr>\n",
       "    <tr>\n",
       "      <th>1</th>\n",
       "      <td>105_11_15</td>\n",
       "      <td>105_11_15_1</td>\n",
       "      <td>47.0</td>\n",
       "      <td>0.0</td>\n",
       "      <td>0.2443</td>\n",
       "      <td>40.0</td>\n",
       "      <td>5.0</td>\n",
       "      <td>3.0</td>\n",
       "      <td>6.0</td>\n",
       "      <td>1.0</td>\n",
       "      <td>1.0</td>\n",
       "      <td>1.0</td>\n",
       "      <td>2.0</td>\n",
       "      <td>0.0</td>\n",
       "      <td>10.0</td>\n",
       "      <td>55550.0</td>\n",
       "    </tr>\n",
       "    <tr>\n",
       "      <th>2</th>\n",
       "      <td>105_11_15</td>\n",
       "      <td>105_11_15_1</td>\n",
       "      <td>49.0</td>\n",
       "      <td>0.0</td>\n",
       "      <td>0.2443</td>\n",
       "      <td>50.0</td>\n",
       "      <td>5.0</td>\n",
       "      <td>4.0</td>\n",
       "      <td>6.0</td>\n",
       "      <td>1.0</td>\n",
       "      <td>2.0</td>\n",
       "      <td>1.0</td>\n",
       "      <td>2.0</td>\n",
       "      <td>0.0</td>\n",
       "      <td>12.0</td>\n",
       "      <td>107484.0</td>\n",
       "    </tr>\n",
       "    <tr>\n",
       "      <th>3</th>\n",
       "      <td>105_11_15</td>\n",
       "      <td>105_11_15_1</td>\n",
       "      <td>51.0</td>\n",
       "      <td>0.0</td>\n",
       "      <td>0.1594</td>\n",
       "      <td>70.0</td>\n",
       "      <td>5.0</td>\n",
       "      <td>6.0</td>\n",
       "      <td>7.0</td>\n",
       "      <td>1.0</td>\n",
       "      <td>1.0</td>\n",
       "      <td>1.0</td>\n",
       "      <td>2.0</td>\n",
       "      <td>0.0</td>\n",
       "      <td>14.0</td>\n",
       "      <td>154433.0</td>\n",
       "    </tr>\n",
       "    <tr>\n",
       "      <th>4</th>\n",
       "      <td>105_11_15</td>\n",
       "      <td>105_11_15_1</td>\n",
       "      <td>53.0</td>\n",
       "      <td>0.0</td>\n",
       "      <td>0.1699</td>\n",
       "      <td>140.0</td>\n",
       "      <td>5.0</td>\n",
       "      <td>6.0</td>\n",
       "      <td>7.0</td>\n",
       "      <td>1.0</td>\n",
       "      <td>2.0</td>\n",
       "      <td>1.0</td>\n",
       "      <td>2.0</td>\n",
       "      <td>0.0</td>\n",
       "      <td>16.0</td>\n",
       "      <td>111810.0</td>\n",
       "    </tr>\n",
       "  </tbody>\n",
       "</table>\n",
       "</div>"
      ],
      "text/plain": [
       "       idcom         idhh   age  political  landsize   room  wall1  floor1  \\\n",
       "0  105_11_15  105_11_15_1  45.0        0.0    0.1776   35.0    5.0     4.0   \n",
       "1  105_11_15  105_11_15_1  47.0        0.0    0.2443   40.0    5.0     3.0   \n",
       "2  105_11_15  105_11_15_1  49.0        0.0    0.2443   50.0    5.0     4.0   \n",
       "3  105_11_15  105_11_15_1  51.0        0.0    0.1594   70.0    5.0     6.0   \n",
       "4  105_11_15  105_11_15_1  53.0        0.0    0.1699  140.0    5.0     6.0   \n",
       "\n",
       "   roof1  dwelling1  edu1  gender1  marital1  poor1  year1     total  \n",
       "0    6.0        1.0   1.0      1.0       2.0    0.0    8.0   27337.0  \n",
       "1    6.0        1.0   1.0      1.0       2.0    0.0   10.0   55550.0  \n",
       "2    6.0        1.0   2.0      1.0       2.0    0.0   12.0  107484.0  \n",
       "3    7.0        1.0   1.0      1.0       2.0    0.0   14.0  154433.0  \n",
       "4    7.0        1.0   2.0      1.0       2.0    0.0   16.0  111810.0  "
      ]
     },
     "execution_count": 79,
     "metadata": {},
     "output_type": "execute_result"
    }
   ],
   "source": [
    "df_all.head()"
   ]
  },
  {
   "cell_type": "code",
   "execution_count": 80,
   "id": "afd044f6",
   "metadata": {},
   "outputs": [],
   "source": [
    "df_all = df_all.sort_values(['idhh', 'year1'],\n",
    "              ascending = [True, True])\n",
    "df_all.reset_index(drop=True, inplace=True)"
   ]
  },
  {
   "cell_type": "code",
   "execution_count": 81,
   "id": "1b8fae64",
   "metadata": {},
   "outputs": [],
   "source": [
    "df_all['next_total']=df_all.groupby('idhh')['total'].shift(-1)\n",
    "df_all['next_poor']=df_all.groupby('idhh')['poor1'].shift(-1)"
   ]
  },
  {
   "cell_type": "code",
   "execution_count": 82,
   "id": "044b6505",
   "metadata": {},
   "outputs": [
    {
     "data": {
      "text/html": [
       "<div>\n",
       "<style scoped>\n",
       "    .dataframe tbody tr th:only-of-type {\n",
       "        vertical-align: middle;\n",
       "    }\n",
       "\n",
       "    .dataframe tbody tr th {\n",
       "        vertical-align: top;\n",
       "    }\n",
       "\n",
       "    .dataframe thead th {\n",
       "        text-align: right;\n",
       "    }\n",
       "</style>\n",
       "<table border=\"1\" class=\"dataframe\">\n",
       "  <thead>\n",
       "    <tr style=\"text-align: right;\">\n",
       "      <th></th>\n",
       "      <th>age</th>\n",
       "      <th>political</th>\n",
       "      <th>landsize</th>\n",
       "      <th>room</th>\n",
       "      <th>wall1</th>\n",
       "      <th>floor1</th>\n",
       "      <th>roof1</th>\n",
       "      <th>dwelling1</th>\n",
       "      <th>edu1</th>\n",
       "      <th>gender1</th>\n",
       "      <th>marital1</th>\n",
       "      <th>poor1</th>\n",
       "      <th>year1</th>\n",
       "      <th>total</th>\n",
       "      <th>next_total</th>\n",
       "      <th>next_poor</th>\n",
       "    </tr>\n",
       "  </thead>\n",
       "  <tbody>\n",
       "    <tr>\n",
       "      <th>count</th>\n",
       "      <td>16871.000000</td>\n",
       "      <td>16871.000000</td>\n",
       "      <td>16871.000000</td>\n",
       "      <td>16871.000000</td>\n",
       "      <td>16871.000000</td>\n",
       "      <td>16871.000000</td>\n",
       "      <td>16871.000000</td>\n",
       "      <td>16871.000000</td>\n",
       "      <td>16871.000000</td>\n",
       "      <td>16871.000000</td>\n",
       "      <td>16871.000000</td>\n",
       "      <td>16871.000000</td>\n",
       "      <td>16871.000000</td>\n",
       "      <td>1.687100e+04</td>\n",
       "      <td>1.313300e+04</td>\n",
       "      <td>13133.000000</td>\n",
       "    </tr>\n",
       "    <tr>\n",
       "      <th>mean</th>\n",
       "      <td>51.333355</td>\n",
       "      <td>0.325707</td>\n",
       "      <td>0.862474</td>\n",
       "      <td>76.151799</td>\n",
       "      <td>3.986012</td>\n",
       "      <td>4.413076</td>\n",
       "      <td>5.257661</td>\n",
       "      <td>1.020390</td>\n",
       "      <td>1.284334</td>\n",
       "      <td>1.175212</td>\n",
       "      <td>2.157489</td>\n",
       "      <td>0.221623</td>\n",
       "      <td>13.073084</td>\n",
       "      <td>8.687694e+04</td>\n",
       "      <td>9.730443e+04</td>\n",
       "      <td>0.209472</td>\n",
       "    </tr>\n",
       "    <tr>\n",
       "      <th>std</th>\n",
       "      <td>24.503782</td>\n",
       "      <td>0.468677</td>\n",
       "      <td>1.445341</td>\n",
       "      <td>47.558272</td>\n",
       "      <td>1.488645</td>\n",
       "      <td>1.407850</td>\n",
       "      <td>1.316129</td>\n",
       "      <td>0.197058</td>\n",
       "      <td>0.861859</td>\n",
       "      <td>0.380142</td>\n",
       "      <td>0.440050</td>\n",
       "      <td>0.415331</td>\n",
       "      <td>3.452124</td>\n",
       "      <td>1.853881e+05</td>\n",
       "      <td>2.015304e+05</td>\n",
       "      <td>0.406931</td>\n",
       "    </tr>\n",
       "    <tr>\n",
       "      <th>min</th>\n",
       "      <td>14.000000</td>\n",
       "      <td>0.000000</td>\n",
       "      <td>0.000000</td>\n",
       "      <td>2.000000</td>\n",
       "      <td>1.000000</td>\n",
       "      <td>1.000000</td>\n",
       "      <td>1.000000</td>\n",
       "      <td>1.000000</td>\n",
       "      <td>1.000000</td>\n",
       "      <td>1.000000</td>\n",
       "      <td>1.000000</td>\n",
       "      <td>0.000000</td>\n",
       "      <td>8.000000</td>\n",
       "      <td>-3.834980e+05</td>\n",
       "      <td>-3.834980e+05</td>\n",
       "      <td>0.000000</td>\n",
       "    </tr>\n",
       "    <tr>\n",
       "      <th>25%</th>\n",
       "      <td>41.000000</td>\n",
       "      <td>0.000000</td>\n",
       "      <td>0.170000</td>\n",
       "      <td>48.000000</td>\n",
       "      <td>2.000000</td>\n",
       "      <td>3.000000</td>\n",
       "      <td>5.000000</td>\n",
       "      <td>1.000000</td>\n",
       "      <td>1.000000</td>\n",
       "      <td>1.000000</td>\n",
       "      <td>2.000000</td>\n",
       "      <td>0.000000</td>\n",
       "      <td>10.000000</td>\n",
       "      <td>2.980300e+04</td>\n",
       "      <td>3.633400e+04</td>\n",
       "      <td>0.000000</td>\n",
       "    </tr>\n",
       "    <tr>\n",
       "      <th>50%</th>\n",
       "      <td>50.000000</td>\n",
       "      <td>0.000000</td>\n",
       "      <td>0.400000</td>\n",
       "      <td>60.000000</td>\n",
       "      <td>5.000000</td>\n",
       "      <td>4.000000</td>\n",
       "      <td>5.000000</td>\n",
       "      <td>1.000000</td>\n",
       "      <td>1.000000</td>\n",
       "      <td>1.000000</td>\n",
       "      <td>2.000000</td>\n",
       "      <td>0.000000</td>\n",
       "      <td>14.000000</td>\n",
       "      <td>5.454000e+04</td>\n",
       "      <td>6.380000e+04</td>\n",
       "      <td>0.000000</td>\n",
       "    </tr>\n",
       "    <tr>\n",
       "      <th>75%</th>\n",
       "      <td>59.000000</td>\n",
       "      <td>1.000000</td>\n",
       "      <td>1.045000</td>\n",
       "      <td>90.000000</td>\n",
       "      <td>5.000000</td>\n",
       "      <td>6.000000</td>\n",
       "      <td>6.000000</td>\n",
       "      <td>1.000000</td>\n",
       "      <td>1.000000</td>\n",
       "      <td>1.000000</td>\n",
       "      <td>2.000000</td>\n",
       "      <td>0.000000</td>\n",
       "      <td>16.000000</td>\n",
       "      <td>1.020850e+05</td>\n",
       "      <td>1.150000e+05</td>\n",
       "      <td>0.000000</td>\n",
       "    </tr>\n",
       "    <tr>\n",
       "      <th>max</th>\n",
       "      <td>1919.000000</td>\n",
       "      <td>1.000000</td>\n",
       "      <td>83.022202</td>\n",
       "      <td>960.000000</td>\n",
       "      <td>7.000000</td>\n",
       "      <td>7.000000</td>\n",
       "      <td>8.000000</td>\n",
       "      <td>3.000000</td>\n",
       "      <td>7.000000</td>\n",
       "      <td>2.000000</td>\n",
       "      <td>5.000000</td>\n",
       "      <td>1.000000</td>\n",
       "      <td>18.000000</td>\n",
       "      <td>1.815852e+07</td>\n",
       "      <td>1.815852e+07</td>\n",
       "      <td>1.000000</td>\n",
       "    </tr>\n",
       "  </tbody>\n",
       "</table>\n",
       "</div>"
      ],
      "text/plain": [
       "                age     political      landsize          room         wall1  \\\n",
       "count  16871.000000  16871.000000  16871.000000  16871.000000  16871.000000   \n",
       "mean      51.333355      0.325707      0.862474     76.151799      3.986012   \n",
       "std       24.503782      0.468677      1.445341     47.558272      1.488645   \n",
       "min       14.000000      0.000000      0.000000      2.000000      1.000000   \n",
       "25%       41.000000      0.000000      0.170000     48.000000      2.000000   \n",
       "50%       50.000000      0.000000      0.400000     60.000000      5.000000   \n",
       "75%       59.000000      1.000000      1.045000     90.000000      5.000000   \n",
       "max     1919.000000      1.000000     83.022202    960.000000      7.000000   \n",
       "\n",
       "             floor1         roof1     dwelling1          edu1       gender1  \\\n",
       "count  16871.000000  16871.000000  16871.000000  16871.000000  16871.000000   \n",
       "mean       4.413076      5.257661      1.020390      1.284334      1.175212   \n",
       "std        1.407850      1.316129      0.197058      0.861859      0.380142   \n",
       "min        1.000000      1.000000      1.000000      1.000000      1.000000   \n",
       "25%        3.000000      5.000000      1.000000      1.000000      1.000000   \n",
       "50%        4.000000      5.000000      1.000000      1.000000      1.000000   \n",
       "75%        6.000000      6.000000      1.000000      1.000000      1.000000   \n",
       "max        7.000000      8.000000      3.000000      7.000000      2.000000   \n",
       "\n",
       "           marital1         poor1         year1         total    next_total  \\\n",
       "count  16871.000000  16871.000000  16871.000000  1.687100e+04  1.313300e+04   \n",
       "mean       2.157489      0.221623     13.073084  8.687694e+04  9.730443e+04   \n",
       "std        0.440050      0.415331      3.452124  1.853881e+05  2.015304e+05   \n",
       "min        1.000000      0.000000      8.000000 -3.834980e+05 -3.834980e+05   \n",
       "25%        2.000000      0.000000     10.000000  2.980300e+04  3.633400e+04   \n",
       "50%        2.000000      0.000000     14.000000  5.454000e+04  6.380000e+04   \n",
       "75%        2.000000      0.000000     16.000000  1.020850e+05  1.150000e+05   \n",
       "max        5.000000      1.000000     18.000000  1.815852e+07  1.815852e+07   \n",
       "\n",
       "          next_poor  \n",
       "count  13133.000000  \n",
       "mean       0.209472  \n",
       "std        0.406931  \n",
       "min        0.000000  \n",
       "25%        0.000000  \n",
       "50%        0.000000  \n",
       "75%        0.000000  \n",
       "max        1.000000  "
      ]
     },
     "execution_count": 82,
     "metadata": {},
     "output_type": "execute_result"
    }
   ],
   "source": [
    "df_all.describe()"
   ]
  },
  {
   "cell_type": "code",
   "execution_count": 83,
   "id": "ee8419af",
   "metadata": {},
   "outputs": [
    {
     "data": {
      "text/html": [
       "<div>\n",
       "<style scoped>\n",
       "    .dataframe tbody tr th:only-of-type {\n",
       "        vertical-align: middle;\n",
       "    }\n",
       "\n",
       "    .dataframe tbody tr th {\n",
       "        vertical-align: top;\n",
       "    }\n",
       "\n",
       "    .dataframe thead th {\n",
       "        text-align: right;\n",
       "    }\n",
       "</style>\n",
       "<table border=\"1\" class=\"dataframe\">\n",
       "  <thead>\n",
       "    <tr style=\"text-align: right;\">\n",
       "      <th></th>\n",
       "      <th>idcom</th>\n",
       "      <th>idhh</th>\n",
       "      <th>age</th>\n",
       "      <th>political</th>\n",
       "      <th>landsize</th>\n",
       "      <th>room</th>\n",
       "      <th>wall1</th>\n",
       "      <th>floor1</th>\n",
       "      <th>roof1</th>\n",
       "      <th>dwelling1</th>\n",
       "      <th>edu1</th>\n",
       "      <th>gender1</th>\n",
       "      <th>marital1</th>\n",
       "      <th>poor1</th>\n",
       "      <th>year1</th>\n",
       "      <th>total</th>\n",
       "      <th>next_total</th>\n",
       "      <th>next_poor</th>\n",
       "    </tr>\n",
       "  </thead>\n",
       "  <tbody>\n",
       "    <tr>\n",
       "      <th>348</th>\n",
       "      <td>105_13_23</td>\n",
       "      <td>105_13_23_16</td>\n",
       "      <td>1909.0</td>\n",
       "      <td>0.0</td>\n",
       "      <td>0.0384</td>\n",
       "      <td>60.0</td>\n",
       "      <td>5.0</td>\n",
       "      <td>6.0</td>\n",
       "      <td>7.0</td>\n",
       "      <td>1.0</td>\n",
       "      <td>1.0</td>\n",
       "      <td>2.0</td>\n",
       "      <td>3.0</td>\n",
       "      <td>0.0</td>\n",
       "      <td>8.0</td>\n",
       "      <td>6700.0</td>\n",
       "      <td>95400.0</td>\n",
       "      <td>0.0</td>\n",
       "    </tr>\n",
       "    <tr>\n",
       "      <th>8322</th>\n",
       "      <td>302_15_11</td>\n",
       "      <td>302_15_11_47</td>\n",
       "      <td>1919.0</td>\n",
       "      <td>0.0</td>\n",
       "      <td>1.2000</td>\n",
       "      <td>60.0</td>\n",
       "      <td>2.0</td>\n",
       "      <td>3.0</td>\n",
       "      <td>4.0</td>\n",
       "      <td>1.0</td>\n",
       "      <td>1.0</td>\n",
       "      <td>1.0</td>\n",
       "      <td>2.0</td>\n",
       "      <td>1.0</td>\n",
       "      <td>18.0</td>\n",
       "      <td>26170.0</td>\n",
       "      <td>NaN</td>\n",
       "      <td>NaN</td>\n",
       "    </tr>\n",
       "    <tr>\n",
       "      <th>12643</th>\n",
       "      <td>605_19_13</td>\n",
       "      <td>605_19_13_3</td>\n",
       "      <td>107.0</td>\n",
       "      <td>0.0</td>\n",
       "      <td>1.1000</td>\n",
       "      <td>54.0</td>\n",
       "      <td>2.0</td>\n",
       "      <td>2.0</td>\n",
       "      <td>5.0</td>\n",
       "      <td>1.0</td>\n",
       "      <td>1.0</td>\n",
       "      <td>1.0</td>\n",
       "      <td>2.0</td>\n",
       "      <td>1.0</td>\n",
       "      <td>8.0</td>\n",
       "      <td>15126.0</td>\n",
       "      <td>9470.0</td>\n",
       "      <td>1.0</td>\n",
       "    </tr>\n",
       "    <tr>\n",
       "      <th>12644</th>\n",
       "      <td>605_19_13</td>\n",
       "      <td>605_19_13_3</td>\n",
       "      <td>109.0</td>\n",
       "      <td>0.0</td>\n",
       "      <td>0.3000</td>\n",
       "      <td>60.0</td>\n",
       "      <td>2.0</td>\n",
       "      <td>2.0</td>\n",
       "      <td>5.0</td>\n",
       "      <td>1.0</td>\n",
       "      <td>1.0</td>\n",
       "      <td>1.0</td>\n",
       "      <td>2.0</td>\n",
       "      <td>1.0</td>\n",
       "      <td>10.0</td>\n",
       "      <td>9470.0</td>\n",
       "      <td>115610.0</td>\n",
       "      <td>1.0</td>\n",
       "    </tr>\n",
       "  </tbody>\n",
       "</table>\n",
       "</div>"
      ],
      "text/plain": [
       "           idcom          idhh     age  political  landsize  room  wall1  \\\n",
       "348    105_13_23  105_13_23_16  1909.0        0.0    0.0384  60.0    5.0   \n",
       "8322   302_15_11  302_15_11_47  1919.0        0.0    1.2000  60.0    2.0   \n",
       "12643  605_19_13   605_19_13_3   107.0        0.0    1.1000  54.0    2.0   \n",
       "12644  605_19_13   605_19_13_3   109.0        0.0    0.3000  60.0    2.0   \n",
       "\n",
       "       floor1  roof1  dwelling1  edu1  gender1  marital1  poor1  year1  \\\n",
       "348       6.0    7.0        1.0   1.0      2.0       3.0    0.0    8.0   \n",
       "8322      3.0    4.0        1.0   1.0      1.0       2.0    1.0   18.0   \n",
       "12643     2.0    5.0        1.0   1.0      1.0       2.0    1.0    8.0   \n",
       "12644     2.0    5.0        1.0   1.0      1.0       2.0    1.0   10.0   \n",
       "\n",
       "         total  next_total  next_poor  \n",
       "348     6700.0     95400.0        0.0  \n",
       "8322   26170.0         NaN        NaN  \n",
       "12643  15126.0      9470.0        1.0  \n",
       "12644   9470.0    115610.0        1.0  "
      ]
     },
     "execution_count": 83,
     "metadata": {},
     "output_type": "execute_result"
    }
   ],
   "source": [
    "df_all[df_all['age']>100]"
   ]
  },
  {
   "cell_type": "code",
   "execution_count": 84,
   "id": "39271769",
   "metadata": {},
   "outputs": [],
   "source": [
    "df_all['age'] = df_all['age'].replace([1909.0],2008-1909)\n",
    "df_all['age'] = df_all['age'].replace([1919.0],2008-1919)"
   ]
  },
  {
   "cell_type": "code",
   "execution_count": 85,
   "id": "f676f720",
   "metadata": {},
   "outputs": [],
   "source": [
    "#df_all=df_all.drop(df_all['age']>100, axis=1, inplace=True)\n"
   ]
  },
  {
   "cell_type": "code",
   "execution_count": 86,
   "id": "28105297",
   "metadata": {},
   "outputs": [],
   "source": [
    "df_all.dropna(inplace=True)\n",
    "df_all.reset_index(drop=True, inplace=True)\n",
    "df_ind=df_all.drop(columns=['idcom', 'idhh', 'year1'])"
   ]
  },
  {
   "cell_type": "code",
   "execution_count": 87,
   "id": "f470bbab",
   "metadata": {
    "scrolled": true
   },
   "outputs": [
    {
     "name": "stdout",
     "output_type": "stream",
     "text": [
      "count    13133.000000\n",
      "mean        50.434708\n",
      "std         13.644882\n",
      "min         14.000000\n",
      "25%         40.000000\n",
      "50%         49.000000\n",
      "75%         58.000000\n",
      "max        109.000000\n",
      "Name: age, dtype: float64\n"
     ]
    },
    {
     "data": {
      "text/plain": [
       "<seaborn.axisgrid.FacetGrid at 0x2c7340c6580>"
      ]
     },
     "execution_count": 87,
     "metadata": {},
     "output_type": "execute_result"
    },
    {
     "data": {
      "text/plain": [
       "<Figure size 648x576 with 0 Axes>"
      ]
     },
     "metadata": {},
     "output_type": "display_data"
    },
    {
     "data": {
      "image/png": "[encoded data removed]",
      "text/plain": [
       "<Figure size 412x360 with 1 Axes>"
      ]
     },
     "metadata": {
      "needs_background": "light"
     },
     "output_type": "display_data"
    }
   ],
   "source": [
    "print(df_ind['age'].describe())\n",
    "plt.figure(figsize=(9,8))\n",
    "sns.displot(data=df_ind, x='age', hue='poor1', bins=50)"
   ]
  },
  {
   "cell_type": "code",
   "execution_count": 88,
   "id": "5fbdcde2",
   "metadata": {},
   "outputs": [
    {
     "data": {
      "text/plain": [
       "Index(['age', 'political', 'landsize', 'room', 'wall1', 'floor1', 'roof1',\n",
       "       'dwelling1', 'edu1', 'gender1', 'marital1', 'poor1', 'total',\n",
       "       'next_total', 'next_poor'],\n",
       "      dtype='object')"
      ]
     },
     "execution_count": 88,
     "metadata": {},
     "output_type": "execute_result"
    }
   ],
   "source": [
    "df_ind.columns"
   ]
  },
  {
   "cell_type": "code",
   "execution_count": 89,
   "id": "94ebd5bc",
   "metadata": {},
   "outputs": [],
   "source": [
    "col_names = ['political', 'wall1','floor1', 'roof1',\n",
    "       'dwelling1', 'edu1', 'gender1', 'marital1',\n",
    "       'poor1', 'next_poor']\n",
    "for col in col_names:\n",
    "    df_ind[col] = df_ind[col].astype('category',copy=False)\n"
   ]
  },
  {
   "cell_type": "code",
   "execution_count": 90,
   "id": "65dc40fa",
   "metadata": {},
   "outputs": [],
   "source": [
    "df_ind['landsize'] = df_ind['landsize']*10000"
   ]
  },
  {
   "cell_type": "code",
   "execution_count": 91,
   "id": "a1181f3b",
   "metadata": {},
   "outputs": [
    {
     "name": "stdout",
     "output_type": "stream",
     "text": [
      "count     13133.000000\n",
      "mean       8603.206055\n",
      "std       14700.058594\n",
      "min           0.000000\n",
      "25%        1734.000000\n",
      "50%        4000.000000\n",
      "75%       10369.999023\n",
      "max      830222.000000\n",
      "Name: landsize, dtype: float64\n"
     ]
    },
    {
     "data": {
      "text/plain": [
       "<Figure size 648x576 with 0 Axes>"
      ]
     },
     "metadata": {},
     "output_type": "display_data"
    },
    {
     "data": {
      "image/png": "[encoded data removed]",
      "text/plain": [
       "<Figure size 412x360 with 1 Axes>"
      ]
     },
     "metadata": {
      "needs_background": "light"
     },
     "output_type": "display_data"
    }
   ],
   "source": [
    "print(df_ind['landsize'].describe())\n",
    "plt.figure(figsize=(9, 8))\n",
    "sns.displot(data=df_ind, x='landsize',hue='poor1',bins=100);"
   ]
  },
  {
   "cell_type": "code",
   "execution_count": 92,
   "id": "15de3474",
   "metadata": {},
   "outputs": [],
   "source": [
    "import xgboost as xgb\n",
    "from sklearn.model_selection import train_test_split\n",
    "from sklearn import preprocessing\n",
    "\n",
    "xgb_cl = xgb.XGBClassifier()\n",
    "le = preprocessing.LabelEncoder()"
   ]
  },
  {
   "cell_type": "code",
   "execution_count": 93,
   "id": "a6c28dfc",
   "metadata": {},
   "outputs": [],
   "source": [
    "num_features = df_ind.drop(columns=['poor1', 'next_poor']+list(df_ind.select_dtypes(exclude=\"number\").columns))\n",
    "cat_feat = df_ind[df_ind.select_dtypes(exclude=\"number\").columns]\n"
   ]
  },
  {
   "cell_type": "code",
   "execution_count": 94,
   "id": "90b6e7b1",
   "metadata": {},
   "outputs": [],
   "source": [
    "cat_feat = cat_feat.apply(le.fit_transform)\n",
    "feats = num_features.merge(cat_feat, left_index=True, right_index=True)"
   ]
  },
  {
   "cell_type": "code",
   "execution_count": 95,
   "id": "650931eb",
   "metadata": {},
   "outputs": [
    {
     "data": {
      "text/plain": [
       "(13133, 15)"
      ]
     },
     "execution_count": 95,
     "metadata": {},
     "output_type": "execute_result"
    }
   ],
   "source": [
    "feats.shape\n"
   ]
  },
  {
   "cell_type": "code",
   "execution_count": 96,
   "id": "3a1f1519",
   "metadata": {},
   "outputs": [
    {
     "data": {
      "text/html": [
       "<div>\n",
       "<style scoped>\n",
       "    .dataframe tbody tr th:only-of-type {\n",
       "        vertical-align: middle;\n",
       "    }\n",
       "\n",
       "    .dataframe tbody tr th {\n",
       "        vertical-align: top;\n",
       "    }\n",
       "\n",
       "    .dataframe thead th {\n",
       "        text-align: right;\n",
       "    }\n",
       "</style>\n",
       "<table border=\"1\" class=\"dataframe\">\n",
       "  <thead>\n",
       "    <tr style=\"text-align: right;\">\n",
       "      <th></th>\n",
       "      <th>age</th>\n",
       "      <th>landsize</th>\n",
       "      <th>room</th>\n",
       "      <th>total</th>\n",
       "      <th>next_total</th>\n",
       "      <th>political</th>\n",
       "      <th>wall1</th>\n",
       "      <th>floor1</th>\n",
       "      <th>roof1</th>\n",
       "      <th>dwelling1</th>\n",
       "      <th>edu1</th>\n",
       "      <th>gender1</th>\n",
       "      <th>marital1</th>\n",
       "      <th>poor1</th>\n",
       "      <th>next_poor</th>\n",
       "    </tr>\n",
       "  </thead>\n",
       "  <tbody>\n",
       "    <tr>\n",
       "      <th>0</th>\n",
       "      <td>45.0</td>\n",
       "      <td>1776.0</td>\n",
       "      <td>35.0</td>\n",
       "      <td>27337.0</td>\n",
       "      <td>55550.0</td>\n",
       "      <td>0</td>\n",
       "      <td>4</td>\n",
       "      <td>3</td>\n",
       "      <td>5</td>\n",
       "      <td>0</td>\n",
       "      <td>0</td>\n",
       "      <td>0</td>\n",
       "      <td>1</td>\n",
       "      <td>0</td>\n",
       "      <td>0</td>\n",
       "    </tr>\n",
       "    <tr>\n",
       "      <th>1</th>\n",
       "      <td>47.0</td>\n",
       "      <td>2443.0</td>\n",
       "      <td>40.0</td>\n",
       "      <td>55550.0</td>\n",
       "      <td>107484.0</td>\n",
       "      <td>0</td>\n",
       "      <td>4</td>\n",
       "      <td>2</td>\n",
       "      <td>5</td>\n",
       "      <td>0</td>\n",
       "      <td>0</td>\n",
       "      <td>0</td>\n",
       "      <td>1</td>\n",
       "      <td>0</td>\n",
       "      <td>0</td>\n",
       "    </tr>\n",
       "    <tr>\n",
       "      <th>2</th>\n",
       "      <td>49.0</td>\n",
       "      <td>2443.0</td>\n",
       "      <td>50.0</td>\n",
       "      <td>107484.0</td>\n",
       "      <td>154433.0</td>\n",
       "      <td>0</td>\n",
       "      <td>4</td>\n",
       "      <td>3</td>\n",
       "      <td>5</td>\n",
       "      <td>0</td>\n",
       "      <td>1</td>\n",
       "      <td>0</td>\n",
       "      <td>1</td>\n",
       "      <td>0</td>\n",
       "      <td>0</td>\n",
       "    </tr>\n",
       "    <tr>\n",
       "      <th>3</th>\n",
       "      <td>51.0</td>\n",
       "      <td>1594.0</td>\n",
       "      <td>70.0</td>\n",
       "      <td>154433.0</td>\n",
       "      <td>111810.0</td>\n",
       "      <td>0</td>\n",
       "      <td>4</td>\n",
       "      <td>5</td>\n",
       "      <td>6</td>\n",
       "      <td>0</td>\n",
       "      <td>0</td>\n",
       "      <td>0</td>\n",
       "      <td>1</td>\n",
       "      <td>0</td>\n",
       "      <td>0</td>\n",
       "    </tr>\n",
       "    <tr>\n",
       "      <th>4</th>\n",
       "      <td>53.0</td>\n",
       "      <td>1699.0</td>\n",
       "      <td>140.0</td>\n",
       "      <td>111810.0</td>\n",
       "      <td>205420.0</td>\n",
       "      <td>0</td>\n",
       "      <td>4</td>\n",
       "      <td>5</td>\n",
       "      <td>6</td>\n",
       "      <td>0</td>\n",
       "      <td>1</td>\n",
       "      <td>0</td>\n",
       "      <td>1</td>\n",
       "      <td>0</td>\n",
       "      <td>0</td>\n",
       "    </tr>\n",
       "    <tr>\n",
       "      <th>...</th>\n",
       "      <td>...</td>\n",
       "      <td>...</td>\n",
       "      <td>...</td>\n",
       "      <td>...</td>\n",
       "      <td>...</td>\n",
       "      <td>...</td>\n",
       "      <td>...</td>\n",
       "      <td>...</td>\n",
       "      <td>...</td>\n",
       "      <td>...</td>\n",
       "      <td>...</td>\n",
       "      <td>...</td>\n",
       "      <td>...</td>\n",
       "      <td>...</td>\n",
       "      <td>...</td>\n",
       "    </tr>\n",
       "    <tr>\n",
       "      <th>13128</th>\n",
       "      <td>55.0</td>\n",
       "      <td>25000.0</td>\n",
       "      <td>108.0</td>\n",
       "      <td>13695.0</td>\n",
       "      <td>146754.0</td>\n",
       "      <td>0</td>\n",
       "      <td>1</td>\n",
       "      <td>2</td>\n",
       "      <td>4</td>\n",
       "      <td>0</td>\n",
       "      <td>3</td>\n",
       "      <td>0</td>\n",
       "      <td>1</td>\n",
       "      <td>0</td>\n",
       "      <td>0</td>\n",
       "    </tr>\n",
       "    <tr>\n",
       "      <th>13129</th>\n",
       "      <td>57.0</td>\n",
       "      <td>26500.0</td>\n",
       "      <td>60.0</td>\n",
       "      <td>146754.0</td>\n",
       "      <td>70435.0</td>\n",
       "      <td>1</td>\n",
       "      <td>0</td>\n",
       "      <td>2</td>\n",
       "      <td>4</td>\n",
       "      <td>0</td>\n",
       "      <td>3</td>\n",
       "      <td>0</td>\n",
       "      <td>1</td>\n",
       "      <td>0</td>\n",
       "      <td>0</td>\n",
       "    </tr>\n",
       "    <tr>\n",
       "      <th>13130</th>\n",
       "      <td>59.0</td>\n",
       "      <td>8500.0</td>\n",
       "      <td>110.0</td>\n",
       "      <td>70435.0</td>\n",
       "      <td>91900.0</td>\n",
       "      <td>0</td>\n",
       "      <td>1</td>\n",
       "      <td>3</td>\n",
       "      <td>4</td>\n",
       "      <td>0</td>\n",
       "      <td>0</td>\n",
       "      <td>0</td>\n",
       "      <td>1</td>\n",
       "      <td>0</td>\n",
       "      <td>0</td>\n",
       "    </tr>\n",
       "    <tr>\n",
       "      <th>13131</th>\n",
       "      <td>61.0</td>\n",
       "      <td>8500.0</td>\n",
       "      <td>120.0</td>\n",
       "      <td>91900.0</td>\n",
       "      <td>139822.0</td>\n",
       "      <td>1</td>\n",
       "      <td>1</td>\n",
       "      <td>3</td>\n",
       "      <td>4</td>\n",
       "      <td>0</td>\n",
       "      <td>0</td>\n",
       "      <td>0</td>\n",
       "      <td>1</td>\n",
       "      <td>0</td>\n",
       "      <td>0</td>\n",
       "    </tr>\n",
       "    <tr>\n",
       "      <th>13132</th>\n",
       "      <td>63.0</td>\n",
       "      <td>23500.0</td>\n",
       "      <td>70.0</td>\n",
       "      <td>139822.0</td>\n",
       "      <td>152900.0</td>\n",
       "      <td>0</td>\n",
       "      <td>1</td>\n",
       "      <td>3</td>\n",
       "      <td>4</td>\n",
       "      <td>0</td>\n",
       "      <td>0</td>\n",
       "      <td>0</td>\n",
       "      <td>1</td>\n",
       "      <td>0</td>\n",
       "      <td>0</td>\n",
       "    </tr>\n",
       "  </tbody>\n",
       "</table>\n",
       "<p>13133 rows × 15 columns</p>\n",
       "</div>"
      ],
      "text/plain": [
       "        age  landsize   room     total  next_total  political  wall1  floor1  \\\n",
       "0      45.0    1776.0   35.0   27337.0     55550.0          0      4       3   \n",
       "1      47.0    2443.0   40.0   55550.0    107484.0          0      4       2   \n",
       "2      49.0    2443.0   50.0  107484.0    154433.0          0      4       3   \n",
       "3      51.0    1594.0   70.0  154433.0    111810.0          0      4       5   \n",
       "4      53.0    1699.0  140.0  111810.0    205420.0          0      4       5   \n",
       "...     ...       ...    ...       ...         ...        ...    ...     ...   \n",
       "13128  55.0   25000.0  108.0   13695.0    146754.0          0      1       2   \n",
       "13129  57.0   26500.0   60.0  146754.0     70435.0          1      0       2   \n",
       "13130  59.0    8500.0  110.0   70435.0     91900.0          0      1       3   \n",
       "13131  61.0    8500.0  120.0   91900.0    139822.0          1      1       3   \n",
       "13132  63.0   23500.0   70.0  139822.0    152900.0          0      1       3   \n",
       "\n",
       "       roof1  dwelling1  edu1  gender1  marital1  poor1  next_poor  \n",
       "0          5          0     0        0         1      0          0  \n",
       "1          5          0     0        0         1      0          0  \n",
       "2          5          0     1        0         1      0          0  \n",
       "3          6          0     0        0         1      0          0  \n",
       "4          6          0     1        0         1      0          0  \n",
       "...      ...        ...   ...      ...       ...    ...        ...  \n",
       "13128      4          0     3        0         1      0          0  \n",
       "13129      4          0     3        0         1      0          0  \n",
       "13130      4          0     0        0         1      0          0  \n",
       "13131      4          0     0        0         1      0          0  \n",
       "13132      4          0     0        0         1      0          0  \n",
       "\n",
       "[13133 rows x 15 columns]"
      ]
     },
     "execution_count": 96,
     "metadata": {},
     "output_type": "execute_result"
    }
   ],
   "source": [
    "feats"
   ]
  },
  {
   "cell_type": "markdown",
   "id": "f5521713",
   "metadata": {},
   "source": [
    "# Output: next_poor"
   ]
  },
  {
   "cell_type": "code",
   "execution_count": 101,
   "id": "d018dc48",
   "metadata": {},
   "outputs": [],
   "source": [
    "X = feats.drop(columns=['total', 'next_total', 'next_poor', 'poor1'])\n",
    "y = feats['next_poor']\n",
    "X_train, X_test, y_train, y_test = train_test_split(\n",
    "    X, y, stratify=y, random_state=711, test_size=0.2\n",
    ")"
   ]
  },
  {
   "cell_type": "code",
   "execution_count": 102,
   "id": "e66a3550",
   "metadata": {},
   "outputs": [
    {
     "data": {
      "text/plain": [
       "0.7910163684811572"
      ]
     },
     "execution_count": 102,
     "metadata": {},
     "output_type": "execute_result"
    }
   ],
   "source": [
    "from sklearn.metrics import accuracy_score\n",
    "\n",
    "# # declare parameters\n",
    "# params = {\n",
    "#             'objective':'binary:logistic',\n",
    "#             'max_depth': 4,\n",
    "#             'alpha': 10,\n",
    "#             'learning_rate': 1.0,\n",
    "#             'n_estimators':100\n",
    "#         }  \n",
    "\n",
    "params = {}\n",
    "# Init classifier\n",
    "xgb_cl = xgb.XGBClassifier(**params)\n",
    "\n",
    "# Fit\n",
    "xgb_cl.fit(X_train, y_train)\n",
    "\n",
    "# Predict\n",
    "preds = xgb_cl.predict(X_test)\n",
    "accuracy_score(y_test, preds) # before standardize"
   ]
  },
  {
   "cell_type": "code",
   "execution_count": 103,
   "id": "ebb1a521",
   "metadata": {},
   "outputs": [
    {
     "data": {
      "text/plain": [
       "<AxesSubplot:title={'center':'Feature importance'}, xlabel='F score', ylabel='Features'>"
      ]
     },
     "execution_count": 103,
     "metadata": {},
     "output_type": "execute_result"
    },
    {
     "data": {
      "image/png": "[encoded data removed]",
      "text/plain": [
       "<Figure size 432x288 with 1 Axes>"
      ]
     },
     "metadata": {
      "needs_background": "light"
     },
     "output_type": "display_data"
    }
   ],
   "source": [
    "xgb.plot_importance(xgb_cl)\n"
   ]
  },
  {
   "cell_type": "code",
   "execution_count": 104,
   "id": "9c0d32ab",
   "metadata": {},
   "outputs": [
    {
     "name": "stdout",
     "output_type": "stream",
     "text": [
      "              precision    recall  f1-score   support\n",
      "\n",
      "           0       0.83      0.92      0.87      2077\n",
      "           1       0.50      0.29      0.37       550\n",
      "\n",
      "    accuracy                           0.79      2627\n",
      "   macro avg       0.67      0.61      0.62      2627\n",
      "weighted avg       0.76      0.79      0.77      2627\n",
      "\n"
     ]
    }
   ],
   "source": [
    "from sklearn.metrics import classification_report\n",
    "\n",
    "print(classification_report(y_test, preds))"
   ]
  },
  {
   "cell_type": "code",
   "execution_count": 105,
   "id": "0e31b0cd",
   "metadata": {},
   "outputs": [
    {
     "data": {
      "text/plain": [
       "0.6615911686334222"
      ]
     },
     "execution_count": 105,
     "metadata": {},
     "output_type": "execute_result"
    }
   ],
   "source": [
    "from sklearn.naive_bayes import ComplementNB\n",
    "clf = ComplementNB()\n",
    "clf.fit(X_train, y_train)\n",
    "clf_preds = clf.predict(X_test)\n",
    "accuracy_score(y_test, clf_preds)\n"
   ]
  },
  {
   "cell_type": "code",
   "execution_count": 106,
   "id": "ceabc1b4",
   "metadata": {},
   "outputs": [],
   "source": [
    "from sklearn.ensemble import RandomForestClassifier"
   ]
  },
  {
   "cell_type": "code",
   "execution_count": 107,
   "id": "40f0228e",
   "metadata": {},
   "outputs": [
    {
     "data": {
      "text/plain": [
       "0.8039588884659307"
      ]
     },
     "execution_count": 107,
     "metadata": {},
     "output_type": "execute_result"
    }
   ],
   "source": [
    "rfr = RandomForestClassifier(max_depth=7, random_state=0)\n",
    "rfr.fit(X_train, y_train)\n",
    "rfr_preds = rfr.predict(X_test)\n",
    "accuracy_score(y_test, rfr_preds)"
   ]
  },
  {
   "cell_type": "code",
   "execution_count": 108,
   "id": "93942266",
   "metadata": {},
   "outputs": [
    {
     "data": {
      "text/plain": [
       "0.7974876284735439"
      ]
     },
     "execution_count": 108,
     "metadata": {},
     "output_type": "execute_result"
    }
   ],
   "source": [
    "from sklearn.linear_model import LogisticRegression\n",
    "logreg = LogisticRegression(C=1e5)\n",
    "logreg.fit(X_train, y_train)\n",
    "lg_preds = logreg.predict(X_test)\n",
    "accuracy_score(y_test, lg_preds)"
   ]
  },
  {
   "cell_type": "markdown",
   "id": "c2f42c87",
   "metadata": {},
   "source": [
    "# new features to predict next poor: using poor status in previous year"
   ]
  },
  {
   "cell_type": "code",
   "execution_count": 109,
   "id": "a60c7e83",
   "metadata": {},
   "outputs": [],
   "source": [
    "X = feats.drop(columns=['total', 'next_total', 'next_poor'])\n",
    "y = feats['next_poor']\n",
    "X_train, X_test, y_train, y_test = train_test_split(\n",
    "    X, y, stratify=y, random_state=711, test_size=0.2)"
   ]
  },
  {
   "cell_type": "code",
   "execution_count": 110,
   "id": "0fd8f729",
   "metadata": {},
   "outputs": [
    {
     "data": {
      "text/plain": [
       "0.827940616673011"
      ]
     },
     "execution_count": 110,
     "metadata": {},
     "output_type": "execute_result"
    }
   ],
   "source": [
    "rfr = RandomForestClassifier(max_depth=7, random_state=0)\n",
    "rfr.fit(X_train, y_train)\n",
    "rfr_preds = rfr.predict(X_test)\n",
    "accuracy_score(y_test, rfr_preds)"
   ]
  },
  {
   "cell_type": "code",
   "execution_count": 111,
   "id": "f5d793b1",
   "metadata": {},
   "outputs": [
    {
     "name": "stderr",
     "output_type": "stream",
     "text": [
      "C:\\Users\\huyen\\anaconda3\\lib\\site-packages\\sklearn\\linear_model\\_logistic.py:814: ConvergenceWarning: lbfgs failed to converge (status=1):\n",
      "STOP: TOTAL NO. of ITERATIONS REACHED LIMIT.\n",
      "\n",
      "Increase the number of iterations (max_iter) or scale the data as shown in:\n",
      "    https://scikit-learn.org/stable/modules/preprocessing.html\n",
      "Please also refer to the documentation for alternative solver options:\n",
      "    https://scikit-learn.org/stable/modules/linear_model.html#logistic-regression\n",
      "  n_iter_i = _check_optimize_result(\n"
     ]
    },
    {
     "data": {
      "text/plain": [
       "0.8111914731633042"
      ]
     },
     "execution_count": 111,
     "metadata": {},
     "output_type": "execute_result"
    }
   ],
   "source": [
    "logreg = LogisticRegression(C=1e5)\n",
    "logreg.fit(X_train, y_train)\n",
    "lg_preds = logreg.predict(X_test)\n",
    "accuracy_score(y_test, lg_preds)"
   ]
  },
  {
   "cell_type": "code",
   "execution_count": 112,
   "id": "5b2785de",
   "metadata": {},
   "outputs": [
    {
     "data": {
      "text/plain": [
       "0.6650171298058623"
      ]
     },
     "execution_count": 112,
     "metadata": {},
     "output_type": "execute_result"
    }
   ],
   "source": [
    "clf = ComplementNB()\n",
    "clf.fit(X_train, y_train)\n",
    "clf_preds = clf.predict(X_test)\n",
    "accuracy_score(y_test, clf_preds)"
   ]
  },
  {
   "cell_type": "code",
   "execution_count": 113,
   "id": "679f1063",
   "metadata": {},
   "outputs": [
    {
     "data": {
      "text/plain": [
       "0.8134754472782642"
      ]
     },
     "execution_count": 113,
     "metadata": {},
     "output_type": "execute_result"
    }
   ],
   "source": [
    "xgb_cl = xgb.XGBClassifier(**params)\n",
    "\n",
    "# Fit\n",
    "xgb_cl.fit(X_train, y_train)\n",
    "\n",
    "# Predict\n",
    "preds = xgb_cl.predict(X_test)\n",
    "accuracy_score(y_test, preds)"
   ]
  },
  {
   "cell_type": "markdown",
   "id": "743192c6",
   "metadata": {},
   "source": [
    "# Output: Income"
   ]
  },
  {
   "cell_type": "code",
   "execution_count": 114,
   "id": "96eedc08",
   "metadata": {},
   "outputs": [
    {
     "name": "stderr",
     "output_type": "stream",
     "text": [
      "C:\\Users\\huyen\\anaconda3\\lib\\site-packages\\seaborn\\distributions.py:2619: FutureWarning: `distplot` is a deprecated function and will be removed in a future version. Please adapt your code to use either `displot` (a figure-level function with similar flexibility) or `histplot` (an axes-level function for histograms).\n",
      "  warnings.warn(msg, FutureWarning)\n"
     ]
    },
    {
     "name": "stdout",
     "output_type": "stream",
     "text": [
      "\n",
      " mu = 97304.43 and sigma = 201522.78\n",
      "\n"
     ]
    },
    {
     "data": {
      "image/png": "[encoded data removed]",
      "text/plain": [
       "<Figure size 432x288 with 1 Axes>"
      ]
     },
     "metadata": {
      "needs_background": "light"
     },
     "output_type": "display_data"
    },
    {
     "data": {
      "image/png": "[encoded data removed]",
      "text/plain": [
       "<Figure size 432x288 with 1 Axes>"
      ]
     },
     "metadata": {
      "needs_background": "light"
     },
     "output_type": "display_data"
    }
   ],
   "source": [
    "from scipy.stats import norm\n",
    "from scipy import stats\n",
    "sns.distplot(feats['next_total'] , fit=norm);\n",
    "\n",
    "# Get the fitted parameters used by the function\n",
    "(mu, sigma) = norm.fit(feats['next_total'])\n",
    "print( '\\n mu = {:.2f} and sigma = {:.2f}\\n'.format(mu, sigma))\n",
    "\n",
    "#Now plot the distribution\n",
    "plt.legend(['Normal dist. ($\\mu=$ {:.2f} and $\\sigma=$ {:.2f} )'.format(mu, sigma)],\n",
    "            loc='best')\n",
    "plt.ylabel('Frequency')\n",
    "plt.title('next_total distribution')\n",
    "\n",
    "#Get also the QQ-plot\n",
    "fig = plt.figure()\n",
    "res = stats.probplot(feats['next_total'], plot=plt)\n",
    "plt.show()"
   ]
  },
  {
   "cell_type": "code",
   "execution_count": 115,
   "id": "dbd53c83",
   "metadata": {},
   "outputs": [],
   "source": [
    "feats2 = feats[feats['next_total']>=0]"
   ]
  },
  {
   "cell_type": "code",
   "execution_count": 118,
   "id": "5b01824e",
   "metadata": {},
   "outputs": [
    {
     "name": "stderr",
     "output_type": "stream",
     "text": [
      "C:\\Users\\huyen\\AppData\\Local\\Temp\\ipykernel_15728\\3596052710.py:4: SettingWithCopyWarning: \n",
      "A value is trying to be set on a copy of a slice from a DataFrame.\n",
      "Try using .loc[row_indexer,col_indexer] = value instead\n",
      "\n",
      "See the caveats in the documentation: https://pandas.pydata.org/pandas-docs/stable/user_guide/indexing.html#returning-a-view-versus-a-copy\n",
      "  feats2[\"next_total\"] = np.log1p(feats2[\"next_total\"])\n",
      "C:\\Users\\huyen\\anaconda3\\lib\\site-packages\\seaborn\\distributions.py:2619: FutureWarning: `distplot` is a deprecated function and will be removed in a future version. Please adapt your code to use either `displot` (a figure-level function with similar flexibility) or `histplot` (an axes-level function for histograms).\n",
      "  warnings.warn(msg, FutureWarning)\n"
     ]
    },
    {
     "name": "stdout",
     "output_type": "stream",
     "text": [
      "\n",
      " mu = 1.25 and sigma = 0.02\n",
      "\n"
     ]
    },
    {
     "data": {
      "image/png": "[encoded data removed]",
      "text/plain": [
       "<Figure size 432x288 with 1 Axes>"
      ]
     },
     "metadata": {
      "needs_background": "light"
     },
     "output_type": "display_data"
    },
    {
     "data": {
      "image/png": "[encoded data removed]",
      "text/plain": [
       "<Figure size 432x288 with 1 Axes>"
      ]
     },
     "metadata": {
      "needs_background": "light"
     },
     "output_type": "display_data"
    }
   ],
   "source": [
    "# Log-transformation of the target variable\n",
    "import numpy as np\n",
    "#We use the numpy fuction log1p which  applies log(1+x) to all elements of the column\n",
    "feats2[\"next_total\"] = np.log1p(feats2[\"next_total\"])\n",
    "\n",
    "#Check the new distribution \n",
    "sns.distplot(feats2['next_total'] , fit=norm);\n",
    "\n",
    "# Get the fitted parameters used by the function\n",
    "(mu, sigma) = norm.fit(feats2['next_total'])\n",
    "print( '\\n mu = {:.2f} and sigma = {:.2f}\\n'.format(mu, sigma))\n",
    "\n",
    "#Now plot the distribution\n",
    "plt.legend(['Normal dist. ($\\mu=$ {:.2f} and $\\sigma=$ {:.2f} )'.format(mu, sigma)],\n",
    "            loc='best')\n",
    "plt.ylabel('Frequency')\n",
    "plt.title('next_total distribution')\n",
    "\n",
    "#Get also the QQ-plot\n",
    "fig = plt.figure()\n",
    "res = stats.probplot(feats2['next_total'], plot=plt)\n",
    "plt.show()"
   ]
  },
  {
   "cell_type": "code",
   "execution_count": 119,
   "id": "bdef8d16",
   "metadata": {},
   "outputs": [],
   "source": [
    "X = feats2.drop(columns=['total', 'next_total', 'next_poor', 'poor1'])\n",
    "y = feats2['next_total']\n",
    "X_train, X_test, y_train, y_test = train_test_split(\n",
    "    X, y, random_state=711, test_size=0.2)"
   ]
  },
  {
   "cell_type": "code",
   "execution_count": 120,
   "id": "0b53c927",
   "metadata": {},
   "outputs": [
    {
     "name": "stdout",
     "output_type": "stream",
     "text": [
      "Linear Regression : 0.2149488131040197\n",
      "Ridge Regression : 0.21495758885528926\n",
      "Lasso Regression : 0.02978589791779407\n",
      "K Neighbors Regressor : 0.04762420000349987\n",
      "Decision Tree Regressor : -0.45267179587138795\n",
      "Random Forest Regressor : 0.2487273116587061\n",
      "Gradient Boosting Regressor : 0.27920375168001177\n",
      "Adaboost Regressor : 0.0039343850894544286\n"
     ]
    }
   ],
   "source": [
    "from sklearn.linear_model import LinearRegression, Ridge, Lasso\n",
    "from sklearn.neighbors import KNeighborsRegressor\n",
    "from sklearn.tree import DecisionTreeRegressor\n",
    "from sklearn.ensemble import (RandomForestRegressor, GradientBoostingRegressor, \n",
    "                              AdaBoostRegressor)\n",
    "from sklearn.metrics import r2_score\n",
    "from sklearn.pipeline import make_pipeline\n",
    "from sklearn.preprocessing import RobustScaler\n",
    "\n",
    "names = ['Linear Regression', 'Ridge Regression', 'Lasso Regression',\n",
    "         'K Neighbors Regressor', 'Decision Tree Regressor', \n",
    "         'Random Forest Regressor', 'Gradient Boosting Regressor',\n",
    "         'Adaboost Regressor']\n",
    "\n",
    "models = [LinearRegression(), Ridge(), Lasso(),\n",
    "          KNeighborsRegressor(), DecisionTreeRegressor(),\n",
    "          RandomForestRegressor(), GradientBoostingRegressor(), \n",
    "          AdaBoostRegressor()]\n",
    "\n",
    "#Running all algorithms\n",
    "for name, model in zip(names, models):\n",
    "    mdl = model\n",
    "    mdl.fit(X_train, y_train)\n",
    "    mdl_preds = mdl.predict(X_test)\n",
    "    print(f\"{name} : {r2_score(y_test, mdl_preds)}\")"
   ]
  },
  {
   "cell_type": "code",
   "execution_count": 121,
   "id": "d3b4445c",
   "metadata": {},
   "outputs": [],
   "source": [
    "X = feats2.drop(columns=['next_total', 'next_poor', 'poor1'])\n",
    "y = feats2['next_total']\n",
    "X_train, X_test, y_train, y_test = train_test_split(\n",
    "    X, y, random_state=711, test_size=0.2)"
   ]
  },
  {
   "cell_type": "code",
   "execution_count": 122,
   "id": "7d4cc552",
   "metadata": {},
   "outputs": [
    {
     "name": "stdout",
     "output_type": "stream",
     "text": [
      "Linear Regression : 0.2768535014491952\n",
      "Ridge Regression : 0.27686198421372\n",
      "Lasso Regression : 0.17728411014592005\n",
      "K Neighbors Regressor : 0.24884073707011822\n",
      "Decision Tree Regressor : -0.24026318847571315\n",
      "Random Forest Regressor : 0.36828409747570257\n",
      "Gradient Boosting Regressor : 0.3986045016518478\n",
      "Adaboost Regressor : 0.2407036859598215\n"
     ]
    }
   ],
   "source": [
    "#Running all algorithms\n",
    "for name, model in zip(names, models):\n",
    "    mdl = model\n",
    "    mdl.fit(X_train, y_train)\n",
    "    mdl_preds = mdl.predict(X_test)\n",
    "    print(f\"{name} : {r2_score(y_test, mdl_preds)}\")"
   ]
  },
  {
   "cell_type": "code",
   "execution_count": null,
   "id": "29d17182",
   "metadata": {},
   "outputs": [],
   "source": []
  }
 ],
 "metadata": {
  "kernelspec": {
   "display_name": "Python 3 (ipykernel)",
   "language": "python",
   "name": "python3"
  },
  "language_info": {
   "codemirror_mode": {
    "name": "ipython",
    "version": 3
   },
   "file_extension": ".py",
   "mimetype": "text/x-python",
   "name": "python",
   "nbconvert_exporter": "python",
   "pygments_lexer": "ipython3",
   "version": "3.9.12"
  }
 },
 "nbformat": 4,
 "nbformat_minor": 5
}
